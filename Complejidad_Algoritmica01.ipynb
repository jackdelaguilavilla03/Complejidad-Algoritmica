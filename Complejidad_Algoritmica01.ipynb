{
  "nbformat": 4,
  "nbformat_minor": 0,
  "metadata": {
    "colab": {
      "name": "Complejidad Algoritmica.ipynb",
      "provenance": [],
      "authorship_tag": "ABX9TyMAIx1y4YzApeJDiocoTG3Y",
      "include_colab_link": true
    },
    "kernelspec": {
      "name": "python3",
      "display_name": "Python 3"
    },
    "language_info": {
      "name": "python"
    }
  },
  "cells": [
    {
      "cell_type": "markdown",
      "metadata": {
        "id": "view-in-github",
        "colab_type": "text"
      },
      "source": [
        "<a href=\"https://colab.research.google.com/github/jackdelaguilavilla03/Complejidad-Algoritmica/blob/main/Complejidad_Algoritmica01.ipynb\" target=\"_parent\"><img src=\"https://colab.research.google.com/assets/colab-badge.svg\" alt=\"Open In Colab\"/></a>"
      ]
    },
    {
      "cell_type": "markdown",
      "source": [
        "# Brute Force"
      ],
      "metadata": {
        "id": "5eQgdnQ1-kzK"
      }
    },
    {
      "cell_type": "code",
      "execution_count": null,
      "metadata": {
        "id": "wp3C5LG-3m2p"
      },
      "outputs": [],
      "source": [
        "def srmatch(t, p):\n",
        "  n = len(t)\n",
        "  l = len(p)\n",
        "  for i in range(n - l):\n",
        "    if p == t[i:i+l]:\n",
        "      result.append(i)\n",
        "    \n",
        "  return results"
      ]
    },
    {
      "cell_type": "markdown",
      "source": [
        "# Backtracking"
      ],
      "metadata": {
        "id": "DqZZlpt--n-D"
      }
    },
    {
      "cell_type": "code",
      "source": [
        "board = [4,7,2,6,1,0,3,5]\n",
        "\n",
        "for row, col in enumerate(board):\n",
        "  print(f\"Hay una reina en la fila {row} columna {col}\")"
      ],
      "metadata": {
        "colab": {
          "base_uri": "https://localhost:8080/"
        },
        "id": "9Luj9qhe-uqO",
        "outputId": "5069cb8b-2301-4521-d547-fc253388d157"
      },
      "execution_count": null,
      "outputs": [
        {
          "output_type": "stream",
          "name": "stdout",
          "text": [
            "Hay una reina en la fila 0 columna 4\n",
            "Hay una reina en la fila 1 columna 7\n",
            "Hay una reina en la fila 2 columna 2\n",
            "Hay una reina en la fila 3 columna 6\n",
            "Hay una reina en la fila 4 columna 1\n",
            "Hay una reina en la fila 5 columna 0\n",
            "Hay una reina en la fila 6 columna 3\n",
            "Hay una reina en la fila 7 columna 5\n"
          ]
        }
      ]
    },
    {
      "cell_type": "code",
      "source": [
        "import numpy as np \n",
        "import matplotlib.pyplot as plt"
      ],
      "metadata": {
        "id": "eQeCmgXH_RAv"
      },
      "execution_count": null,
      "outputs": []
    },
    {
      "cell_type": "code",
      "source": [
        "def draw(board):\n",
        "  n = len(board)\n",
        "  b = np.zeros((n,n,3), dtype=int)\n",
        "  b += [255,128,80]\n",
        "\n",
        "  b[::2, ::2] = [255,128,120]\n",
        "  b[1::2, 1::2] = [255,128,120]\n",
        "\n",
        "  _, ax = plt.subplots()\n",
        "  ax.imshow(b)\n",
        "  for row, col in enumerate(board):\n",
        "    ax.text(col,row, u\"\\u265b\", fontsize=200/n, va=\"center\", ha=\"center\")\n",
        "    ax.set(xticks=[], yticks=[])\n",
        "\n",
        "    draw(board)"
      ],
      "metadata": {
        "id": "svqbdwt1_Z0h"
      },
      "execution_count": null,
      "outputs": []
    },
    {
      "cell_type": "code",
      "source": [
        "def valid(boar, row , col):\n",
        "  for row_i in range(row):\n",
        "    col_i = board[row_i]\n",
        "    delta = row - row_i\n",
        "    if col in [col_i, col_i + delta, col_i - delta]:\n",
        "      return False"
      ],
      "metadata": {
        "id": "GqXGBS9sCA7k"
      },
      "execution_count": null,
      "outputs": []
    }
  ]
}